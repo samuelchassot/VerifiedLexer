{
 "cells": [
  {
   "cell_type": "code",
   "execution_count": 5,
   "metadata": {},
   "outputs": [],
   "source": [
    "import re\n",
    "import os"
   ]
  },
  {
   "cell_type": "code",
   "execution_count": 9,
   "metadata": {},
   "outputs": [],
   "source": [
    "# Regex to get a number in the form \"X from cache\" whenre the number is X\n",
    "# and the string is \"X from cache\"\n",
    "regex = re.compile(r\"(\\d+) from cache\")\n",
    "\n",
    "regex.findall(\"1 from cache\")\n",
    "\n",
    "def get_number_of_hits(s: str) -> int:\n",
    "    \"\"\"Returns the number of hits from a string\"\"\"\n",
    "    return int(regex.findall(s)[0])"
   ]
  },
  {
   "cell_type": "code",
   "execution_count": 10,
   "metadata": {},
   "outputs": [],
   "source": [
    "folder_name = \"logs_auto_2023-09-28_17-51-17\""
   ]
  },
  {
   "cell_type": "code",
   "execution_count": 11,
   "metadata": {},
   "outputs": [
    {
     "name": "stdout",
     "output_type": "stream",
     "text": [
      "log_run_00049.txt: 950\n",
      "log_run_00048.txt: 950\n",
      "log_run_00029.txt: 950\n",
      "log_run_00001.txt: 950\n",
      "log_run_00015.txt: 950\n",
      "log_run_00014.txt: 950\n",
      "log_run_00000.txt: 120\n",
      "log_run_00028.txt: 950\n",
      "log_run_00016.txt: 950\n",
      "log_run_00002.txt: 950\n",
      "log_run_00003.txt: 950\n",
      "log_run_00017.txt: 950\n",
      "log_run_00013.txt: 950\n",
      "log_run_00007.txt: 950\n",
      "log_run_00006.txt: 950\n",
      "log_run_00012.txt: 950\n",
      "log_run_00004.txt: 950\n",
      "log_run_00010.txt: 950\n",
      "log_run_00038.txt: 950\n",
      "log_run_00039.txt: 950\n",
      "log_run_00011.txt: 950\n",
      "log_run_00005.txt: 950\n",
      "log_run_00008.txt: 950\n",
      "log_run_00020.txt: 950\n",
      "log_run_00034.txt: 950\n",
      "log_run_00035.txt: 950\n",
      "log_run_00021.txt: 950\n",
      "log_run_00009.txt: 950\n",
      "log_run_00037.txt: 950\n",
      "log_run_00023.txt: 950\n",
      "log_run_00022.txt: 950\n",
      "log_run_00036.txt: 950\n",
      "log_run_00032.txt: 683\n",
      "log_run_00026.txt: 950\n",
      "log_run_00027.txt: 950\n",
      "log_run_00033.txt: 950\n",
      "log_run_00025.txt: 950\n",
      "log_run_00031.txt: 950\n",
      "log_run_00019.txt: 950\n",
      "log_run_00018.txt: 950\n",
      "log_run_00030.txt: 950\n",
      "log_run_00024.txt: 950\n",
      "log_run_00043.txt: 950\n",
      "log_run_00042.txt: 950\n",
      "log_run_00040.txt: 950\n",
      "log_run_00041.txt: 950\n",
      "log_run_00045.txt: 950\n",
      "log_run_00044.txt: 950\n",
      "log_run_00050.txt: 950\n",
      "log_run_00046.txt: 950\n",
      "log_run_00047.txt: 950\n"
     ]
    }
   ],
   "source": [
    "for f_name in os.listdir(folder_name):\n",
    "    with open(os.path.join(folder_name, f_name), \"r\") as f:\n",
    "        content = f.read()\n",
    "        hits = get_number_of_hits(content)\n",
    "        print(f\"{f_name}: {hits}\")"
   ]
  },
  {
   "cell_type": "code",
   "execution_count": 12,
   "metadata": {},
   "outputs": [
    {
     "name": "stdout",
     "output_type": "stream",
     "text": [
      "log_run_00000.txt: 120\n",
      "log_run_00032.txt: 683\n"
     ]
    }
   ],
   "source": [
    "for f_name in os.listdir(folder_name):\n",
    "    with open(os.path.join(folder_name, f_name), \"r\") as f:\n",
    "        content = f.read()\n",
    "        hits = get_number_of_hits(content)\n",
    "        if hits != 950:\n",
    "            print(f\"{f_name}: {hits}\")"
   ]
  },
  {
   "cell_type": "code",
   "execution_count": null,
   "metadata": {},
   "outputs": [],
   "source": []
  }
 ],
 "metadata": {
  "kernelspec": {
   "display_name": "Python 3",
   "language": "python",
   "name": "python3"
  },
  "language_info": {
   "codemirror_mode": {
    "name": "ipython",
    "version": 3
   },
   "file_extension": ".py",
   "mimetype": "text/x-python",
   "name": "python",
   "nbconvert_exporter": "python",
   "pygments_lexer": "ipython3",
   "version": "3.11.5"
  },
  "orig_nbformat": 4
 },
 "nbformat": 4,
 "nbformat_minor": 2
}
